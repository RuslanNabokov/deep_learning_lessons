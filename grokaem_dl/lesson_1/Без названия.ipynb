{
 "cells": [
  {
   "cell_type": "code",
   "execution_count": 1,
   "id": "confused-designation",
   "metadata": {},
   "outputs": [],
   "source": [
    "from FirstProg import  neural_network"
   ]
  },
  {
   "cell_type": "code",
   "execution_count": 2,
   "id": "described-beach",
   "metadata": {},
   "outputs": [],
   "source": [
    "number_of_toes = [4,4,9.5,10,9]"
   ]
  },
  {
   "cell_type": "code",
   "execution_count": 3,
   "id": "unlikely-doctor",
   "metadata": {},
   "outputs": [
    {
     "data": {
      "text/plain": [
       "0.30000000000000004"
      ]
     },
     "execution_count": 3,
     "metadata": {},
     "output_type": "execute_result"
    }
   ],
   "source": [
    "neural_network(3)"
   ]
  },
  {
   "cell_type": "code",
   "execution_count": null,
   "id": "prompt-hawaiian",
   "metadata": {},
   "outputs": [],
   "source": []
  },
  {
   "cell_type": "code",
   "execution_count": null,
   "id": "embedded-workshop",
   "metadata": {},
   "outputs": [],
   "source": []
  }
 ],
 "metadata": {
  "kernelspec": {
   "display_name": "Python 3",
   "language": "python",
   "name": "python3"
  },
  "language_info": {
   "codemirror_mode": {
    "name": "ipython",
    "version": 3
   },
   "file_extension": ".py",
   "mimetype": "text/x-python",
   "name": "python",
   "nbconvert_exporter": "python",
   "pygments_lexer": "ipython3",
   "version": "3.8.5"
  }
 },
 "nbformat": 4,
 "nbformat_minor": 5
}
